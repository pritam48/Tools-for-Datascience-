{
 "cells": [
  {
   "cell_type": "markdown",
   "id": "0e231145-6b9d-4c4f-87a5-03cbea670e15",
   "metadata": {},
   "source": [
    "# My Jupyter Notebook on IBM Watson Studio"
   ]
  },
  {
   "cell_type": "markdown",
   "id": "61bc5713-a5ed-48ba-881e-3429d9a1e3bf",
   "metadata": {},
   "source": [
    "**PRITAM DAS** <br>\n",
    "Data Scientist"
   ]
  },
  {
   "cell_type": "markdown",
   "id": "5f441191-e0c2-47fc-85c2-94aa75d7bda5",
   "metadata": {},
   "source": [
    "*I am interested in data science because I am enthusiastic about data, especially considering how quickly technology is changing the profession. I enjoy being a part of new technologies and trying out innovative solutions. I am especially interested in artificial intelligence and machine learning and I am eager to use AI in a more practical capacity. I want to use predictive analysis to instinctively cater to customers needs.* "
   ]
  },
  {
   "cell_type": "markdown",
   "id": "2a3b4bdb-c38f-4091-967a-00856d34dea4",
   "metadata": {},
   "source": [
    "### The below code would simply calculate the addition of two numbers 4 and 5 which is equal to 9"
   ]
  },
  {
   "cell_type": "code",
   "execution_count": 2,
   "id": "162a80b7-21b0-4b63-b2b2-1b71db1fbac8",
   "metadata": {},
   "outputs": [
    {
     "data": {
      "text/plain": [
       "9"
      ]
     },
     "execution_count": 2,
     "metadata": {},
     "output_type": "execute_result"
    }
   ],
   "source": [
    "4+5"
   ]
  },
  {
   "cell_type": "markdown",
   "id": "e1b4a1d2-d070-440e-8d47-8b2c0563b3de",
   "metadata": {},
   "source": [
    "<ul>Bulleted list\n",
    "\n",
    "<li>Chips</li>\n",
    "<li>Eggs</li>\n",
    "<li>Chicken</li>\n",
    "</ul>\n",
    "<br>\n",
    "<ol>Numbered list\n",
    "<li>Fish</li>\n",
    "<li>Fruits</li>\n",
    "<li>Burgers</li>\n",
    "</ol>\n",
    "\n",
    "<br>\n",
    "\n",
    "Tables\n",
    "<table>\n",
    "<tr>\n",
    "<th>Name</th>\n",
    "<th>Address</th>\n",
    "<th>Salary</th>\n",
    "</tr>\n",
    "\n",
    "<tr>\n",
    "<td>Pritam</td>\n",
    "<td>India</td>\n",
    "<td>4000</td>\n",
    "</tr>\n",
    "\n",
    "<tr>\n",
    "<td>Das</td>\n",
    "<td>Sydney</td>\n",
    "<td>5000</td>\n",
    "</tr>\n",
    "</table>\n",
    "\n",
    "StrikeThrough<br>\n",
    "~This is an example of strikethrough~\n"
   ]
  },
  {
   "cell_type": "code",
   "execution_count": null,
   "id": "7ec95448-3f6c-41e6-b832-2ef66943cfc6",
   "metadata": {},
   "outputs": [],
   "source": []
  }
 ],
 "metadata": {
  "kernelspec": {
   "display_name": "Python",
   "language": "python",
   "name": "conda-env-python-py"
  },
  "language_info": {
   "codemirror_mode": {
    "name": "ipython",
    "version": 3
   },
   "file_extension": ".py",
   "mimetype": "text/x-python",
   "name": "python",
   "nbconvert_exporter": "python",
   "pygments_lexer": "ipython3",
   "version": "3.7.12"
  }
 },
 "nbformat": 4,
 "nbformat_minor": 5
}
